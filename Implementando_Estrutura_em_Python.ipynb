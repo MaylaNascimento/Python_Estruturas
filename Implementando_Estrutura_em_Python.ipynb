{
  "nbformat": 4,
  "nbformat_minor": 0,
  "metadata": {
    "colab": {
      "name": "Implementando Estrutura em Python",
      "provenance": [],
      "authorship_tag": "ABX9TyPDypmy/SZ0QXSI11qjOQ/0",
      "include_colab_link": true
    },
    "kernelspec": {
      "name": "python3",
      "display_name": "Python 3"
    },
    "language_info": {
      "name": "python"
    }
  },
  "cells": [
    {
      "cell_type": "markdown",
      "metadata": {
        "id": "view-in-github",
        "colab_type": "text"
      },
      "source": [
        "<a href=\"https://colab.research.google.com/github/MaylaNascimento/Python_Estruturas/blob/main/Implementando_Estrutura_em_Python.ipynb\" target=\"_parent\"><img src=\"https://colab.research.google.com/assets/colab-badge.svg\" alt=\"Open In Colab\"/></a>"
      ]
    },
    {
      "cell_type": "markdown",
      "source": [
        "#Listas encadeadas istas encadeadas em Python\n",
        "\n",
        "\n"
      ],
      "metadata": {
        "id": "F-lHcTi7Yarj"
      }
    },
    {
      "cell_type": "code",
      "execution_count": 7,
      "metadata": {
        "id": "S6ln3oDGYVtY"
      },
      "outputs": [],
      "source": [
        "class ItemLista:\n",
        "  def __init__(self, data=0, nextItem=None):\n",
        "    self.data = data\n",
        "    self.nextItem = nextItem\n",
        "  def __repr__(self):\n",
        "    return '%s => %s' % (self.data, self.nextItem)\n",
        "\n",
        "class ListaEncadeada:\n",
        "  \"\"\" Criando uma lista encadeada \"\"\"\n",
        "  def __init__(self):\n",
        "    self.head = None\n",
        "  def __repr__(self):\n",
        "    return \"%s\" % (self.head)\n",
        "  def insere(lista, data):\n",
        "  #cria um objeto para armazenar um novo item da lista\n",
        "    item = ItemLista(data)\n",
        "  #o head é apontado como próximo item\n",
        "    item.nextItem = lista.head\n",
        "  #o item atual se torna o head\n",
        "    lista.head = item\n"
      ]
    }
  ]
}