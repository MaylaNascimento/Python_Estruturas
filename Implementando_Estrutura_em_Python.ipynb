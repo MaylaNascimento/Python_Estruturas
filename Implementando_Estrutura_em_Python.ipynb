{
  "nbformat": 4,
  "nbformat_minor": 0,
  "metadata": {
    "colab": {
      "name": "Implementando Estrutura em Python",
      "provenance": [],
      "authorship_tag": "ABX9TyM1/7b+GX1ULVnJsFvTHeSb",
      "include_colab_link": true
    },
    "kernelspec": {
      "name": "python3",
      "display_name": "Python 3"
    },
    "language_info": {
      "name": "python"
    }
  },
  "cells": [
    {
      "cell_type": "markdown",
      "metadata": {
        "id": "view-in-github",
        "colab_type": "text"
      },
      "source": [
        "<a href=\"https://colab.research.google.com/github/MaylaNascimento/Python_Estruturas/blob/main/Implementando_Estrutura_em_Python.ipynb\" target=\"_parent\"><img src=\"https://colab.research.google.com/assets/colab-badge.svg\" alt=\"Open In Colab\"/></a>"
      ]
    },
    {
      "cell_type": "markdown",
      "source": [
        "#Listas encadeadas istas encadeadas em Python\n",
        "\n",
        "\n"
      ],
      "metadata": {
        "id": "F-lHcTi7Yarj"
      }
    },
    {
      "cell_type": "code",
      "execution_count": 3,
      "metadata": {
        "id": "S6ln3oDGYVtY"
      },
      "outputs": [],
      "source": [
        "class ItemLista:\n",
        "  def __init__(self, data=0, nextItem=None):\n",
        "    self.data = data\n",
        "    self.nextItem = nextItem\n",
        "  def __repr__(self):\n",
        "    return '%s => %s' % (self.data, self.nextItem)"
      ]
    }
  ]
}