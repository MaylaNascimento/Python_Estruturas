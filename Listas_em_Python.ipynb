{
  "nbformat": 4,
  "nbformat_minor": 0,
  "metadata": {
    "colab": {
      "name": "Listas em Python",
      "provenance": [],
      "collapsed_sections": [],
      "authorship_tag": "ABX9TyMl6Uw8Xqt9vU/9/CZ2kz/l",
      "include_colab_link": true
    },
    "kernelspec": {
      "name": "python3",
      "display_name": "Python 3"
    },
    "language_info": {
      "name": "python"
    }
  },
  "cells": [
    {
      "cell_type": "markdown",
      "metadata": {
        "id": "view-in-github",
        "colab_type": "text"
      },
      "source": [
        "<a href=\"https://colab.research.google.com/github/MaylaNascimento/Python_Estruturas/blob/main/Listas_em_Python.ipynb\" target=\"_parent\"><img src=\"https://colab.research.google.com/assets/colab-badge.svg\" alt=\"Open In Colab\"/></a>"
      ]
    },
    {
      "cell_type": "code",
      "execution_count": 2,
      "metadata": {
        "colab": {
          "base_uri": "https://localhost:8080/"
        },
        "id": "P0W3BdrjXmHI",
        "outputId": "5a86b667-e5e7-436e-a355-b3efe1f6c1f0"
      },
      "outputs": [
        {
          "output_type": "execute_result",
          "data": {
            "text/plain": [
              "int"
            ]
          },
          "metadata": {},
          "execution_count": 2
        }
      ],
      "source": [
        "v=1\n",
        "type(v)\n"
      ]
    },
    {
      "cell_type": "code",
      "source": [
        "v = 1.1\n",
        "type(v)"
      ],
      "metadata": {
        "colab": {
          "base_uri": "https://localhost:8080/"
        },
        "id": "sgulBbOqXvW8",
        "outputId": "072bbabf-0183-437d-ca66-eadf641dc079"
      },
      "execution_count": 3,
      "outputs": [
        {
          "output_type": "execute_result",
          "data": {
            "text/plain": [
              "float"
            ]
          },
          "metadata": {},
          "execution_count": 3
        }
      ]
    },
    {
      "cell_type": "code",
      "source": [
        "# imprimindo lista\n",
        "minha_lista = [1, 2, 3] \n",
        "print(minha_lista)"
      ],
      "metadata": {
        "colab": {
          "base_uri": "https://localhost:8080/"
        },
        "id": "WAC-Wix6Zh_D",
        "outputId": "b1b10dee-6da5-4d4e-a21f-778d165065cc"
      },
      "execution_count": 7,
      "outputs": [
        {
          "output_type": "stream",
          "name": "stdout",
          "text": [
            "[1, 2, 3]\n"
          ]
        }
      ]
    },
    {
      "cell_type": "code",
      "source": [
        "\n",
        "print(type(minha_lista))"
      ],
      "metadata": {
        "colab": {
          "base_uri": "https://localhost:8080/"
        },
        "id": "T_UPfS80Z5FA",
        "outputId": "c6943b06-5b7f-4de3-8284-7d46332eea23"
      },
      "execution_count": 21,
      "outputs": [
        {
          "output_type": "stream",
          "name": "stdout",
          "text": [
            "<class 'list'>\n"
          ]
        }
      ]
    },
    {
      "cell_type": "markdown",
      "source": [
        "#metodos de manipulacao\n",
        "\n",
        "\n",
        "\n",
        "1.  lista.append(x) insere no final\n",
        "2.  lista.insert(i,x) insere elemento i na posição x \n",
        "1.  lista.extend(L) insere todos os elementos da lista L no final da lista.\n",
        "2.  print(lista) imprime os elementos -->> ['x1','x2', ..., 'xn']\n",
        "1.  lista.remove(x) remove o primeiro valor que seja igual a x\n",
        "2.  lista.pop(i) remove o elemento da posição i e o retona. \n",
        "1.   del lista[i] apaga o elemento da posicao i.\n",
        "1.   del lista[:] apaga toda a lista\n",
        "2.   len(lista) retorna o numero de elementos."
      ],
      "metadata": {
        "id": "CDABLxyIelOh"
      }
    },
    {
      "cell_type": "code",
      "source": [
        "minha_lista.pop()\n"
      ],
      "metadata": {
        "colab": {
          "base_uri": "https://localhost:8080/"
        },
        "id": "vQ3YcRSDapvE",
        "outputId": "aa6e6fa0-3db1-4a13-8cf0-7a7fe07f5ba2"
      },
      "execution_count": 10,
      "outputs": [
        {
          "output_type": "execute_result",
          "data": {
            "text/plain": [
              "3"
            ]
          },
          "metadata": {},
          "execution_count": 10
        }
      ]
    },
    {
      "cell_type": "markdown",
      "source": [
        "leitura de sequencia de numeros:\n",
        " /* O código a seguir lê uma sequência de dez números (de 0 a 9) e armazena os valores pares em uma variável denominada lista: */"
      ],
      "metadata": {
        "id": "YDjskX72vZMs"
      }
    },
    {
      "cell_type": "code",
      "source": [
        "  lista = []\n",
        "  for i in range(10):\n",
        "    if i % 2 == 0:\n",
        "      lista.append(i)\n",
        "      \n"
      ],
      "metadata": {
        "id": "w0NfgC_qvdTl"
      },
      "execution_count": 22,
      "outputs": []
    },
    {
      "cell_type": "code",
      "source": [
        "print(lista)"
      ],
      "metadata": {
        "colab": {
          "base_uri": "https://localhost:8080/"
        },
        "id": "x6wmYp-Bxy2d",
        "outputId": "0fdfca5b-12dc-4456-9371-42c529a8b667"
      },
      "execution_count": 23,
      "outputs": [
        {
          "output_type": "stream",
          "name": "stdout",
          "text": [
            "[0, 2, 4, 6, 8]\n"
          ]
        }
      ]
    },
    {
      "cell_type": "code",
      "source": [
        "#desempacotamento de tupla\n",
        "a,b = (1,2)\n",
        "print(a)"
      ],
      "metadata": {
        "colab": {
          "base_uri": "https://localhost:8080/"
        },
        "id": "JupVCSTqyCKm",
        "outputId": "b5c54bb7-0b24-4eff-f1bc-5d8da1c99048"
      },
      "execution_count": 24,
      "outputs": [
        {
          "output_type": "stream",
          "name": "stdout",
          "text": [
            "1\n"
          ]
        }
      ]
    },
    {
      "cell_type": "code",
      "source": [
        "#desempacotamento de tupla\n",
        "a,b = (1,2)\n",
        "print(b)"
      ],
      "metadata": {
        "colab": {
          "base_uri": "https://localhost:8080/"
        },
        "id": "YnhJN0JdyK_M",
        "outputId": "998ff85f-740b-4e51-b666-dd096922b63b"
      },
      "execution_count": 25,
      "outputs": [
        {
          "output_type": "stream",
          "name": "stdout",
          "text": [
            "2\n"
          ]
        }
      ]
    },
    {
      "cell_type": "code",
      "source": [
        "#desempacotamento de tupla\n",
        "a,b = (1,2)\n",
        "print(a,b)"
      ],
      "metadata": {
        "colab": {
          "base_uri": "https://localhost:8080/"
        },
        "id": "psrQ1tRCyckN",
        "outputId": "b93aed5e-c70f-4b63-94be-efb7eba6acda"
      },
      "execution_count": 27,
      "outputs": [
        {
          "output_type": "stream",
          "name": "stdout",
          "text": [
            "1 2\n"
          ]
        }
      ]
    },
    {
      "cell_type": "markdown",
      "source": [
        "#Dicionários\n",
        "Dicionários (dict) são estruturas de dados que correlacionam um valor de entrada (chamado de chave) a valores de saída. Nesse caso, cada chave possui apenas um valor de saída. Eles são declarados com valores listados entre chaves separados por vírgula (chave e valor são separados por dois-pontos).\n",
        "\n",
        "Dicionário = { chave1: valor, chave2: valor, ..., chaven: valor }"
      ],
      "metadata": {
        "id": "dxWDie2syx99"
      }
    },
    {
      "cell_type": "code",
      "source": [
        "#declaracao\n",
        "\n",
        "dicionario = {\n",
        "\"A\": \"ABACATE\",\n",
        "\"B\": \"BOLA\",\n",
        "\"C\": \"CACHORRO\"\n",
        "\n",
        "}"
      ],
      "metadata": {
        "id": "UT6_mjRby2TW"
      },
      "execution_count": 40,
      "outputs": []
    },
    {
      "cell_type": "code",
      "source": [
        "#imprimindo chaves\n",
        "\n",
        "for chave in dicionario:\n",
        "  print(chave)"
      ],
      "metadata": {
        "colab": {
          "base_uri": "https://localhost:8080/"
        },
        "id": "WkVHXk0s0bcu",
        "outputId": "faa62220-ec14-4735-d0d9-38ae0a7dc902"
      },
      "execution_count": 41,
      "outputs": [
        {
          "output_type": "stream",
          "name": "stdout",
          "text": [
            "A\n",
            "B\n",
            "C\n"
          ]
        }
      ]
    },
    {
      "cell_type": "code",
      "source": [
        "#imprimindo dicionario\n",
        "\n",
        "print(dicionario)"
      ],
      "metadata": {
        "colab": {
          "base_uri": "https://localhost:8080/"
        },
        "id": "2bSy7Tae0oko",
        "outputId": "06fe0618-37f6-442e-8293-01d6668a9ba0"
      },
      "execution_count": 42,
      "outputs": [
        {
          "output_type": "stream",
          "name": "stdout",
          "text": [
            "{'A': 'ABACATE', 'B': 'BOLA', 'C': 'CACHORRO'}\n"
          ]
        }
      ]
    },
    {
      "cell_type": "code",
      "source": [
        "for chave in dicionario:\n",
        "  print(chave,dicionario[chave])"
      ],
      "metadata": {
        "colab": {
          "base_uri": "https://localhost:8080/"
        },
        "id": "y87gYtMV0wdC",
        "outputId": "24bd950f-59f6-4253-cf3c-5d2b4c9f65b5"
      },
      "execution_count": 43,
      "outputs": [
        {
          "output_type": "stream",
          "name": "stdout",
          "text": [
            "A ABACATE\n",
            "B BOLA\n",
            "C CACHORRO\n"
          ]
        }
      ]
    },
    {
      "cell_type": "code",
      "source": [
        "for chave,valor in zip(dicionario.keys(),dicionario.values()):\n",
        "\n",
        "  print(chave, valor)"
      ],
      "metadata": {
        "colab": {
          "base_uri": "https://localhost:8080/"
        },
        "id": "iy9z1CV40_yN",
        "outputId": "9c3f799a-b75a-406d-c6b6-ba42c041a189"
      },
      "execution_count": 50,
      "outputs": [
        {
          "output_type": "stream",
          "name": "stdout",
          "text": [
            "A ABACATE\n",
            "B BOLA\n",
            "C CACHORRO\n"
          ]
        }
      ]
    },
    {
      "cell_type": "markdown",
      "source": [
        "#Conjuntos\n",
        "Conjuntos (set) são listas compostas por valores únicos. Eles podem ser declarados usando a estrutura de dicionários ou listas, isto é, usando chaves { } ou colchetes [ ].\n",
        "Conjunto = set( [ valor1, valor2, ... , valor n ] )"
      ],
      "metadata": {
        "id": "KlXn0JYZ1xJP"
      }
    },
    {
      "cell_type": "code",
      "source": [
        "conjunto = set([1,2,3,3,3,3])\n",
        "#set( ), apenas os valores únicos são incluídos no conjunto."
      ],
      "metadata": {
        "id": "W512lUWQ2PuU"
      },
      "execution_count": 53,
      "outputs": []
    },
    {
      "cell_type": "code",
      "source": [
        "print(conjunto)"
      ],
      "metadata": {
        "colab": {
          "base_uri": "https://localhost:8080/"
        },
        "id": "ruaoahM62RvV",
        "outputId": "90a66ad6-c70e-43ea-be80-55ec488d6345"
      },
      "execution_count": 56,
      "outputs": [
        {
          "output_type": "stream",
          "name": "stdout",
          "text": [
            "{1, 2, 3, 777}\n"
          ]
        }
      ]
    },
    {
      "cell_type": "code",
      "source": [
        "#adionando elementos no conjunto\n",
        "conjunto.add(777)\n",
        "print(conjunto)"
      ],
      "metadata": {
        "colab": {
          "base_uri": "https://localhost:8080/"
        },
        "id": "u4tiWtzn2dY8",
        "outputId": "27c1a957-1377-4e26-80c1-46bf78943ef1"
      },
      "execution_count": 64,
      "outputs": [
        {
          "output_type": "stream",
          "name": "stdout",
          "text": [
            "{1, 2, 3, 777}\n"
          ]
        }
      ]
    },
    {
      "cell_type": "code",
      "source": [
        "#remover \n",
        "conjunto.remove(777)\n",
        "print(conjunto)\n"
      ],
      "metadata": {
        "colab": {
          "base_uri": "https://localhost:8080/"
        },
        "id": "9Nsf0LK_2tD8",
        "outputId": "92467e6a-d727-46cf-d546-fe25fbdfaa8b"
      },
      "execution_count": 65,
      "outputs": [
        {
          "output_type": "stream",
          "name": "stdout",
          "text": [
            "{1, 2, 3}\n"
          ]
        }
      ]
    },
    {
      "cell_type": "code",
      "source": [
        "#conjuntos\n",
        "a = set([1,2,3,4])\n",
        "b = set([2, 4, 6, 8])\n",
        "print(a)\n",
        "print(b)"
      ],
      "metadata": {
        "colab": {
          "base_uri": "https://localhost:8080/"
        },
        "id": "BQ9Ufs4y3A2G",
        "outputId": "f493115e-759d-450a-894f-1af801d72202"
      },
      "execution_count": 66,
      "outputs": [
        {
          "output_type": "stream",
          "name": "stdout",
          "text": [
            "{1, 2, 3, 4}\n",
            "{8, 2, 4, 6}\n"
          ]
        }
      ]
    },
    {
      "cell_type": "code",
      "source": [
        "#União de conjuntos\n",
        "a|b"
      ],
      "metadata": {
        "colab": {
          "base_uri": "https://localhost:8080/"
        },
        "id": "IeVZ3QN03UE8",
        "outputId": "866ab843-ab04-4cd0-fa91-9b3a3f5749d0"
      },
      "execution_count": 67,
      "outputs": [
        {
          "output_type": "execute_result",
          "data": {
            "text/plain": [
              "{1, 2, 3, 4, 6, 8}"
            ]
          },
          "metadata": {},
          "execution_count": 67
        }
      ]
    },
    {
      "cell_type": "code",
      "source": [
        "#interceção conjuntos\n",
        "a & b"
      ],
      "metadata": {
        "colab": {
          "base_uri": "https://localhost:8080/"
        },
        "id": "0N-GwEDu3d8z",
        "outputId": "a3dea21f-84dd-4282-c9a6-3b4931f2a3ef"
      },
      "execution_count": 68,
      "outputs": [
        {
          "output_type": "execute_result",
          "data": {
            "text/plain": [
              "{2, 4}"
            ]
          },
          "metadata": {},
          "execution_count": 68
        }
      ]
    },
    {
      "cell_type": "code",
      "source": [
        "# diferenca conjuntos\n",
        "a-b"
      ],
      "metadata": {
        "colab": {
          "base_uri": "https://localhost:8080/"
        },
        "id": "qGVvHa4H3lA0",
        "outputId": "7050e91c-dce6-415b-ebe5-b417e357b6e1"
      },
      "execution_count": 69,
      "outputs": [
        {
          "output_type": "execute_result",
          "data": {
            "text/plain": [
              "{1, 3}"
            ]
          },
          "metadata": {},
          "execution_count": 69
        }
      ]
    },
    {
      "cell_type": "markdown",
      "source": [
        "#Listas encadeadas\n",
        "\n",
        "Listas encadeadas (linked lists) são um tipo de lista em que elementos são conectados individualmente. Nesse tipo de estrutura de dados, os elementos não são obrigatoriamente armazenados em sequência. Entretanto, cada um deles armazena a posição do elemento posterior, permitindo assim que possa se estabelecer um caminho do começo ao fim da lista, numa estrutura que lembra uma corrente."
      ],
      "metadata": {
        "id": "QvqFdoFW3up8"
      }
    },
    {
      "cell_type": "markdown",
      "source": [
        "#Pilhas\n",
        "\n",
        "Pilhas (stack) são um tipo especial de listas. Sua forma de representação lembra uma pilha. Nesse tipo de estrutura de dados, o primeiro elemento a ser adicionado é o último a ser removido. Operações de adição de itens são denominadas empilhamento; operações de remoção são denominadas desempilhamento."
      ],
      "metadata": {
        "id": "EUFDDPYi4dGU"
      }
    },
    {
      "cell_type": "markdown",
      "source": [
        "#Filas\n",
        "\n",
        "Filas são outro tipo de listas. Filas são um tipo de estrutura de dados linear em que o primeiro item a ser adicionado é o primeiro a ser removido (KUMAR, 2019). Esse tipo de estrutura de dados também é conhecido como uma estrutura FIFO (um acrônimo para first-in, first-out, que pode ser traduzido para “primeiro a entrar, primeiro a sair”)."
      ],
      "metadata": {
        "id": "lwQlfR0E4tbk"
      }
    },
    {
      "cell_type": "markdown",
      "source": [
        "#Árvores\n",
        "\n",
        "Árvores são um tipo de estrutura de dados não linear, em que cada elemento é representado como um nó. A estrutura parte do chamado nó raiz (root). Cada nó interligado abaixo da raiz é denominado como ramo ou nó filho. Elementos que não possuem nós filho são denominados como folhas. Uma ilustração de uma estrutura de dados em forma de árvore pode ser visualizada abaixo."
      ],
      "metadata": {
        "id": "O6iY2EHe5XAm"
      }
    },
    {
      "cell_type": "markdown",
      "source": [
        "#Grafo\n",
        "\n",
        "Grafos são representados pela fórmula G(V, A), em que G representa o grafo, V representa vértices (onde V > 0) e A representam arestas que interligam pares de vértices de V. Em estrutura de dados, grafos podem ser compreendidos como um tipo de estrutura em que cada elemento é representado como um vértice (também denominado como nó) interligados por arestas que podem representar possíveis interações ou relacionamentos."
      ],
      "metadata": {
        "id": "jaI4MvyV5gWO"
      }
    },
    {
      "cell_type": "markdown",
      "source": [
        "#Hashmap \n",
        "\n",
        "Hashmap (mapa de hash) estrutura de dados que vincula uma chave a um determinado valor. Assim, para obter o valor, basta informar a chave. São similares aos dicionários Python.\n",
        "\n"
      ],
      "metadata": {
        "id": "a_TcZC0K5ntB"
      }
    },
    {
      "cell_type": "markdown",
      "source": [
        "#EXECUTANDO"
      ],
      "metadata": {
        "id": "8u3xeaw89fPF"
      }
    },
    {
      "cell_type": "code",
      "source": [
        "#conclusão: A classe Dados deverá ser inicializada recebendo uma lista (podemos denominá-la como itens).\n",
        "# Aqui usamos duas classes especiais: __init__ e __repr__, que são usadas para instanciar a classe e para imprimir os valores armazenados, respectivamente.\n",
        "\n",
        "class Dados:\n",
        "  def __init__(self):\n",
        "    self.itens = []\n",
        "\n",
        "  def __repr__(self):\n",
        "    return str(self.itens)\n",
        "\n",
        "  def insere(self, valor):\n",
        "\n",
        "    self.itens.append(valor)\n",
        "\n",
        "  def remove(self):\n",
        "\n",
        "    self.itens.pop()\n",
        "\n",
        "  \n",
        "  def main():\n",
        "    dados = Dados()\n",
        "\n",
        "    #adicionando Dados\n",
        "    dados.insere(1)\n",
        "\n",
        "    dados.insere(2)\n",
        "\n",
        "    print(dados)\n",
        "\n"
      ],
      "metadata": {
        "id": "DSxznTDO6QOO"
      },
      "execution_count": 104,
      "outputs": []
    }
  ]
}